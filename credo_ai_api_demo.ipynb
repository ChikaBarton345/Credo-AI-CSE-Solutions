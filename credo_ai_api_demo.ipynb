{
 "cells": [
  {
   "cell_type": "markdown",
   "metadata": {},
   "source": [
    "### Credo AI API Demonstration\n",
    "\n",
    "This notebook is a hands-on demonstration of the Credo AI API endpoints. \n",
    "\n",
    "It is not meant to describe all our API endpoints and capabilities though; that you can find [here](https://knowledge.credo.ai/api-documentation). \n",
    "\n",
    "Last updated: August 1, 2024"
   ]
  },
  {
   "cell_type": "code",
   "execution_count": 1,
   "metadata": {},
   "outputs": [],
   "source": [
    "import requests\n",
    "import pprint\n",
    "import json"
   ]
  },
  {
   "cell_type": "markdown",
   "metadata": {},
   "source": [
    "### Authentication\n",
    "Authenticate by exchanging your API token key token key for the access token. The access token expires after 24 hours.\n",
    "\n",
    "You can access and generate API tokens in the Home page of the Credo AI Platform. Save it to a txt file named `my_credo_ai_api_token.txt` in this same directory.\n",
    "\n",
    "The `tenant` variable is the name of your Credo AI tenant. It's the one you enter on the Credo AI Platform login page. Update it to yours."
   ]
  },
  {
   "cell_type": "code",
   "execution_count": 2,
   "metadata": {},
   "outputs": [
    {
     "name": "stdout",
     "output_type": "stream",
     "text": [
      "kuNUmh...\n",
      "Bearer eyJ...\n"
     ]
    }
   ],
   "source": [
    "with open(\"my_credo_ai_api_token.txt\", \"r\") as f:\n",
    "    api_token = f.read()\n",
    "    print(api_token[:6] + '...')\n",
    "\n",
    "tenant = \"credoai\" \n",
    "\n",
    "endpoint = \"https://api.credo.ai/auth/exchange\"\n",
    "\n",
    "headers = {\n",
    "    \"Content-Type\": \"application/json; charset=utf-8\",\n",
    "}\n",
    "\n",
    "json_data = {\n",
    "    \"api_token\": api_token,\n",
    "    \"tenant\": tenant,\n",
    "}\n",
    "\n",
    "response = requests.post(\n",
    "    endpoint, headers=headers, json=json_data\n",
    ").json()\n",
    "\n",
    "access_token = 'Bearer ' + response['access_token']\n",
    "print(access_token[:10] + \"...\")"
   ]
  },
  {
   "cell_type": "markdown",
   "metadata": {},
   "source": [
    "### Get details of an exsiting Use Case\n",
    "In this example, we get details of an existing Use Case in the Credo AI Platform.\n",
    "\n",
    "To find the Use Case ID, go to the Use Case in the Platform. The ID is in the url. Replace the `use_case_id` value with that one in your own tenant.\n",
    "\n",
    "Example: `https://app.credo.ai/use-cases/VMW4ja6yXRhQSkRbYZBS5F/`"
   ]
  },
  {
   "cell_type": "code",
   "execution_count": 3,
   "metadata": {},
   "outputs": [
    {
     "name": "stdout",
     "output_type": "stream",
     "text": [
      "{'ai_type': 'gen_ai',\n",
      " 'control_refs': [{'id': 'CTRL-FB2+2', 'key': 'CTRL-FB2', 'version': 2},\n",
      "                  {'id': 'CTRL-AM1+2', 'key': 'CTRL-AM1', 'version': 2},\n",
      "                  {'id': 'CTRL-ET3+1', 'key': 'CTRL-ET3', 'version': 1},\n",
      "                  {'id': 'CTRL-PI1+1', 'key': 'CTRL-PI1', 'version': 1},\n",
      "                  {'id': 'CTRL-ES1+1', 'key': 'CTRL-ES1', 'version': 1}],\n",
      " 'description': '{\"root\":{\"children\":[{\"children\":[{\"detail\":0,\"format\":0,\"mode\":\"normal\",\"style\":\"\",\"text\":\"This '\n",
      "                'project investigates '\n",
      "                '\",\"type\":\"text\",\"version\":1},{\"children\":[{\"detail\":0,\"format\":0,\"mode\":\"normal\",\"style\":\"\",\"text\":\"Med-PaLM '\n",
      "                '2\",\"type\":\"text\",\"version\":1}],\"direction\":\"ltr\",\"format\":\"\",\"indent\":0,\"type\":\"link\",\"version\":1,\"rel\":\"noopener\",\"target\":null,\"title\":null,\"url\":\"https://\"},{\"detail\":0,\"format\":0,\"mode\":\"normal\",\"style\":\"\",\"text\":\" '\n",
      "                'API for integration in our healthcare applications that aim '\n",
      "                'to enhance patient access to reliable medical information, '\n",
      "                'empower them to take control of their health and optimize '\n",
      "                \"healthcare providers' workflow by automating routine \"\n",
      "                'inquiries.\",\"type\":\"text\",\"version\":1}],\"direction\":\"ltr\",\"format\":\"\",\"indent\":0,\"type\":\"paragraph\",\"version\":1},{\"children\":[{\"detail\":0,\"format\":0,\"mode\":\"normal\",\"style\":\"\",\"text\":\"Med-PaLM '\n",
      "                '2 is a medical question-answering service by Google Cloud and '\n",
      "                'is powered by the PaLM 2 foundation model to answer questions '\n",
      "                'about symptoms, medications, treatment options, or general '\n",
      "                'health '\n",
      "                'concerns.\",\"type\":\"text\",\"version\":1}],\"direction\":\"ltr\",\"format\":\"\",\"indent\":0,\"type\":\"paragraph\",\"version\":1},{\"children\":[{\"altText\":\"med.jpg\",\"caption\":{\"editorState\":{\"root\":{\"children\":[{\"children\":[],\"direction\":null,\"format\":\"center\",\"indent\":0,\"type\":\"paragraph\",\"version\":1}],\"direction\":null,\"format\":\"\",\"indent\":0,\"type\":\"root\",\"version\":1}}},\"height\":207.43516891479493,\"maxWidth\":800,\"showCaption\":true,\"src\":\"https://api.credo.ai/files/credoai/9xrNAGFLrA2Vp8jRbeBz23/med.jpg\",\"type\":\"image\",\"version\":1,\"width\":498}],\"direction\":null,\"format\":\"center\",\"indent\":0,\"type\":\"paragraph\",\"version\":1},{\"children\":[{\"altText\":\"2z73455wyhhm-6JGjnId4AW6kSYBdsLRjMK-6076cb193098b83aad1caa5dbdc6cc9c-QA_Card_-_rosacea_1D5D53C6.svg\",\"caption\":{\"editorState\":{\"root\":{\"children\":[{\"children\":[],\"direction\":null,\"format\":\"center\",\"indent\":0,\"type\":\"paragraph\",\"version\":1}],\"direction\":null,\"format\":\"\",\"indent\":0,\"type\":\"root\",\"version\":1}}},\"height\":518.2351346404628,\"maxWidth\":800,\"showCaption\":true,\"src\":\"https://api.credo.ai/files/credoai/xjSMkXnavb2Z6CBPrHWesU/2z73455wyhhm-6JGjnId4AW6kSYBdsLRjMK-6076cb193098b83aad1caa5dbdc6cc9c-QA_Card_-_rosacea_1D5D53C6.svg\",\"type\":\"image\",\"version\":1,\"width\":496.9999694824219}],\"direction\":null,\"format\":\"center\",\"indent\":0,\"type\":\"paragraph\",\"version\":1}],\"direction\":\"ltr\",\"format\":\"\",\"indent\":0,\"type\":\"root\",\"version\":1}}',\n",
      " 'domain_ids': ['text_generation'],\n",
      " 'governance_status': 1,\n",
      " 'icon': None,\n",
      " 'industries': ['Human Health and Social Work Activities'],\n",
      " 'inserted_at': '2023-05-23T13:02:57.664708Z',\n",
      " 'is_vendor': True,\n",
      " 'name': 'Med-PaLM Medical LLM',\n",
      " 'policy_pack_refs': [{'id': 'ISO-42001+1', 'key': 'ISO-42001', 'version': 1},\n",
      "                      {'id': 'EU-HIGH+1', 'key': 'EU-HIGH', 'version': 1},\n",
      "                      {'id': 'EUAI-IV+2', 'key': 'EUAI-IV', 'version': 2},\n",
      "                      {'id': 'CR-GENVEND+1',\n",
      "                       'key': 'CR-GENVEND',\n",
      "                       'version': 1}],\n",
      " 'questionnaire_ids': ['DEFAULT+1'],\n",
      " 'rai_issues_count': 0,\n",
      " 'regions': ['United States', 'European Union'],\n",
      " 'risk_category_level': 1,\n",
      " 'risk_level': '1',\n",
      " 'settings': {'use_risk_evaluations': True},\n",
      " 'updated_at': '2024-06-21T13:01:00.037726Z'}\n"
     ]
    }
   ],
   "source": [
    "use_case_id = \"VMW4ja6yXRhQSkRbYZBS5F\"\n",
    "endpoint = \"https://api.credo.ai/api/v2/\" + tenant + \"/use_cases/\" + use_case_id\n",
    "headers = {\n",
    "    \"Authorization\": access_token\n",
    "}\n",
    "\n",
    "response = requests.get(endpoint, headers=headers).json()\n",
    "\n",
    "pprint.pp(response[\"data\"][\"attributes\"])"
   ]
  },
  {
   "cell_type": "markdown",
   "metadata": {},
   "source": [
    "### Making updates to an existing Use Case\n",
    "Let's update the Risk Category of the Use Case from 0 to 1.\n",
    "\n",
    "**Risk Category**\tis the different levels or \"buckets\" that an organization uses to categorize its AI Use Cases based on risk; for example, \"High\", \"Medium,\" and \"Low\"; or \"Tier 1,\" \"Tier 2,\" and \"Tier 3.\" The Risk Category of an AI Use Case is inherent based on information about where, how, and why the AI Use Case will be deployed, and Risk Categories are completely customizable in the Credo AI Platform to support any custom risk taxonomy that an organization wants to use."
   ]
  },
  {
   "cell_type": "code",
   "execution_count": null,
   "metadata": {},
   "outputs": [],
   "source": [
    "data = json.dumps(\n",
    "    {\n",
    "        \"data\": {\n",
    "            \"attributes\": {\n",
    "                \"risk_category_level\": 1,\n",
    "            },\n",
    "            \"id\": use_case_id,\n",
    "            \"type\": \"resource-type\",\n",
    "        }\n",
    "    }\n",
    ")\n",
    "\n",
    "endpoint = \"https://api.credo.ai/api/v2/\" + tenant + \"/use_cases/\" + use_case_id\n",
    "headers = {\n",
    "    \"Authorization\": access_token,\n",
    "    \"Content-Type\": \"application/vnd.api+json\",\n",
    "}\n",
    "\n",
    "response = requests.patch(endpoint, headers=headers, data=data).json()\n",
    "\n",
    "print(response)"
   ]
  },
  {
   "cell_type": "markdown",
   "metadata": {},
   "source": [
    "### Register a New Use Case\n",
    "Now let's register a new Use Case called \"TalentGPT API\"\n",
    "\n",
    "Make sure you update the `questionnaire_ids` with one that exists in your tenant before running. You can find them in the Governance Center page."
   ]
  },
  {
   "cell_type": "code",
   "execution_count": 4,
   "metadata": {},
   "outputs": [
    {
     "name": "stdout",
     "output_type": "stream",
     "text": [
      "{'data': {'attributes': {'ai_type': 'none', 'control_refs': [], 'description': 'A GPT-powered hiring solution', 'domain_ids': None, 'governance_status': 0, 'icon': None, 'industries': ['Financial and Insurance Activities'], 'inserted_at': '2024-07-16T22:48:50.035198Z', 'is_vendor': True, 'name': 'TalentGPT API Demo', 'policy_pack_refs': [], 'questionnaire_ids': ['DEFAULT+12'], 'rai_issues_count': 0, 'regions': ['US'], 'risk_category_level': 1, 'risk_level': None, 'settings': None, 'updated_at': '2024-07-16T22:48:50.035198Z'}, 'id': 'JQ42oCuFvT7W3KiYPTMY9X', 'relationships': {}, 'type': 'use_cases'}, 'included': []}\n"
     ]
    }
   ],
   "source": [
    "import json\n",
    "\n",
    "data = json.dumps({\n",
    "    \"data\": {\n",
    "        \"attributes\": {\n",
    "            \"description\": \"A GPT-powered hiring solution\",\n",
    "            \"industries\": [\"Financial and Insurance Activities\"],\n",
    "            \"is_vendor\": True,\n",
    "            \"name\": \"TalentGPT API Demo\",\n",
    "            \"questionnaire_ids\": [\"DEFAULT+12\"],\n",
    "            \"regions\": [\"US\"],\n",
    "            \"risk_category_level\": 1,\n",
    "        },\n",
    "        \"type\": \"resource-type\",\n",
    "    }\n",
    "}\n",
    ")\n",
    "\n",
    "endpoint = \"https://api.credo.ai/api/v2/\" + tenant + \"/use_cases\"\n",
    "headers = {\"Authorization\": access_token, \"Content-Type\": \"application/vnd.api+json\",}\n",
    "\n",
    "response = requests.post(endpoint, headers=headers, data=data).json()\n",
    "\n",
    "print(response)"
   ]
  },
  {
   "cell_type": "markdown",
   "metadata": {},
   "source": [
    "Now go to the Platform to check if the new use cases have been registered.\n",
    "\n",
    "After that, feel free to try some of the other hundreds of the API endpoints available. You can find [here](https://knowledge.credo.ai/api-documentation)."
   ]
  }
 ],
 "metadata": {
  "kernelspec": {
   "display_name": "ve6",
   "language": "python",
   "name": "python3"
  },
  "language_info": {
   "codemirror_mode": {
    "name": "ipython",
    "version": 3
   },
   "file_extension": ".py",
   "mimetype": "text/x-python",
   "name": "python",
   "nbconvert_exporter": "python",
   "pygments_lexer": "ipython3",
   "version": "3.9.10"
  }
 },
 "nbformat": 4,
 "nbformat_minor": 2
}
